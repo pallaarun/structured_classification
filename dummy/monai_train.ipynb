{
 "cells": [
  {
   "cell_type": "code",
   "execution_count": 1,
   "metadata": {},
   "outputs": [],
   "source": [
    "import os\n",
    "os.environ[\"GIT_PYTHON_REFRESH\"] = \"quiet\""
   ]
  },
  {
   "cell_type": "code",
   "execution_count": 2,
   "metadata": {},
   "outputs": [],
   "source": [
    "# %reset -f\n",
    "import torch\n",
    "import mlflow\n",
    "import mlflow.pytorch\n",
    "from torchsummary import summary\n",
    "from pipeline import monai_utils\n",
    "from monai.handlers import StatsHandler\n",
    "from mlflow.tracking import MlflowClient\n",
    "from pipeline.monai_utils import parseInputs"
   ]
  },
  {
   "cell_type": "code",
   "execution_count": 3,
   "metadata": {},
   "outputs": [
    {
     "name": "stdout",
     "output_type": "stream",
     "text": [
      "cuda\n"
     ]
    }
   ],
   "source": [
    "device = torch.device(\"cuda\") if torch.cuda.is_available() else torch.device(\"cpu\")\n",
    "print(device)"
   ]
  },
  {
   "cell_type": "code",
   "execution_count": 4,
   "metadata": {},
   "outputs": [],
   "source": [
    "def print_auto_logged_info(r):\n",
    "    tags = {k: v for k, v in r.data.tags.items() if not k.startswith(\"mlflow.\")}\n",
    "    artifacts = [f.path for f in MlflowClient().list_artifacts(r.info.run_id, \"model\")]\n",
    "    print(\"run_id: {}\".format(r.info.run_id))\n",
    "    print(\"artifacts: {}\".format(artifacts))\n",
    "    print(\"params: {}\".format(r.data.params))\n",
    "    print(\"metrics: {}\".format(r.data.metrics))\n",
    "    print(\"tags: {}\".format(tags))"
   ]
  },
  {
   "cell_type": "code",
   "execution_count": 5,
   "metadata": {},
   "outputs": [],
   "source": [
    "def train(cfg, overrides=None):\n",
    "    with mlflow.start_run() as run:\n",
    "        if overrides is not None:\n",
    "            cfg.update_from_args(overrides)\n",
    "        mlflow.log_params(cfg.config)\n",
    "        (train_dataset,valid_dataset) = cfg.get_dataset()\n",
    "        (train_loader,valid_loader) = cfg.get_loaders(train_dataset,valid_dataset)\n",
    "        my_model = cfg.get_model_instance()\n",
    "        my_model = my_model.to(device)\n",
    "        opt = cfg.get_optimizer_instance(my_model)\n",
    "        loss_func = cfg.get_criterion_instance()\n",
    "#         summary(my_model,(1,128,128,128))\n",
    "        inferer = None\n",
    "        train_handlers = StatsHandler(tag_name=\"train_loss\", output_transform=lambda x: x[\"loss\"]),\n",
    "        trainer = cfg.get_train_engine(device,train_loader,valid_loader,my_model,inferer,opt,loss_func,train_handlers)\n",
    "        trainer.run()\n",
    "        mlflow.pytorch.log_model(my_model, \"model\")\n",
    "#         print(run.info, run.data)\n",
    "        print_auto_logged_info(mlflow.get_run(run_id = run.info.run_id))"
   ]
  },
  {
   "cell_type": "code",
   "execution_count": 6,
   "metadata": {},
   "outputs": [],
   "source": [
    "cfg, my_args = parseInputs()"
   ]
  },
  {
   "cell_type": "code",
   "execution_count": 7,
   "metadata": {
    "scrolled": false
   },
   "outputs": [
    {
     "name": "stderr",
     "output_type": "stream",
     "text": [
      "\r",
      "  0%|                                                                                          | 0/130 [00:00<?, ?it/s]"
     ]
    },
    {
     "name": "stdout",
     "output_type": "stream",
     "text": [
      "Reading the training data:\n"
     ]
    },
    {
     "name": "stderr",
     "output_type": "stream",
     "text": [
      "100%|████████████████████████████████████████████████████████████████████████████████| 130/130 [00:25<00:00,  5.03it/s]\n",
      "  0%|                                                                                           | 0/20 [00:00<?, ?it/s]"
     ]
    },
    {
     "name": "stdout",
     "output_type": "stream",
     "text": [
      "Reading the validation data:\n"
     ]
    },
    {
     "name": "stderr",
     "output_type": "stream",
     "text": [
      "100%|██████████████████████████████████████████████████████████████████████████████████| 20/20 [00:04<00:00,  4.73it/s]\n"
     ]
    },
    {
     "name": "stdout",
     "output_type": "stream",
     "text": [
      "Training Results - Epoch: 1  Avg accuracy: 0.90 Avg loss: 0.46\n",
      "Validation Results - Epoch: 1  Avg accuracy: 0.80 Avg loss: 0.58\n",
      "Training Results - Epoch: 2  Avg accuracy: 0.99 Avg loss: 0.20\n",
      "Validation Results - Epoch: 2  Avg accuracy: 0.75 Avg loss: 0.52\n",
      "Training Results - Epoch: 3  Avg accuracy: 0.99 Avg loss: 0.07\n",
      "Validation Results - Epoch: 3  Avg accuracy: 0.75 Avg loss: 0.47\n",
      "run_id: 4ef567df07e64bc5880be4e355a068b5\n",
      "artifacts: ['model/MLmodel', 'model/conda.yaml', 'model/data']\n",
      "params: {'cfgname': 'exploration/monai_abc.json', 'CRITERION': \"{'CRITERION_TYPE': 'torch.nn.CrossEntropyLoss'}\", 'DATASET': \"{'DATA_TYPE': 'monai.data.CacheDataset', 'VOLUME_SHAPE': [128, 128, 128], 'DATASET_PATH': 'D:/iitm/IU/IU_04/IU_APWS/BRATS2017/Brats17TrainingData/', 'TRANSFORMS_KEYS': ['img', 'img', 'img', 'img', 'img', ['img', 'label']], 'TRANSFORMS_DICT': 'None'}\", 'LOADER': \"{'LOADER_TYPE': 'monai.data.DataLoader', 'LOADER_ARGS': {'Train': {'batch_size': 6, 'shuffle': True}, 'Valid': {'batch_size': 2, 'shuffle': True}}}\", 'MODEL': \"{'MODEL_TYPE': 'monai.networks.nets.Classifier', 'MODEL_ARGS': {'in_shape': [1, 128, 128, 128], 'channels': [4, 8, 16, 8, 1], 'strides': [2, 2, 2, 2, 2], 'classes': 2}}\", 'OPTIMIZER': \"{'OPTIMIZER_TYPE': 'torch.optim.Adam', 'OPTIMIZER_ARGS': {'lr': 0.001, 'betas': [0.9, 0.999]}}\", 'Training': \"{'resume': True}\", 'TRAIN_ENGINE': \"{'ENGINE_TYPE': 'monai.engines.SupervisedTrainer', 'ENGINE_ARGS': {'max_epochs': 3}}\"}\n",
      "metrics: {'train_accuracy': 0.9923076923076923, 'train_loss': 0.06511114076353036, 'valid_accuracy': 0.75, 'valid_loss': 0.4748969316482544}\n",
      "tags: {}\n"
     ]
    }
   ],
   "source": [
    "train(cfg = cfg,overrides = my_args)"
   ]
  }
 ],
 "metadata": {
  "kernelspec": {
   "display_name": "Python 3.7 (torch)",
   "language": "python",
   "name": "mytorch"
  },
  "language_info": {
   "codemirror_mode": {
    "name": "ipython",
    "version": 3
   },
   "file_extension": ".py",
   "mimetype": "text/x-python",
   "name": "python",
   "nbconvert_exporter": "python",
   "pygments_lexer": "ipython3",
   "version": "3.7.9"
  }
 },
 "nbformat": 4,
 "nbformat_minor": 4
}
